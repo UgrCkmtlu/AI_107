{
  "nbformat": 4,
  "nbformat_minor": 0,
  "metadata": {
    "colab": {
      "provenance": [],
      "authorship_tag": "ABX9TyPFCvPtGUUB/+Oepa0W3POY",
      "include_colab_link": true
    },
    "kernelspec": {
      "name": "python3",
      "display_name": "Python 3"
    },
    "language_info": {
      "name": "python"
    }
  },
  "cells": [
    {
      "cell_type": "markdown",
      "metadata": {
        "id": "view-in-github",
        "colab_type": "text"
      },
      "source": [
        "<a href=\"https://colab.research.google.com/github/UgrCkmtlu/AI_107/blob/main/Gorev1_Ugur_COKMUTLU.ipynb\" target=\"_parent\"><img src=\"https://colab.research.google.com/assets/colab-badge.svg\" alt=\"Open In Colab\"/></a>"
      ]
    },
    {
      "cell_type": "markdown",
      "source": [],
      "metadata": {
        "id": "O61eN9ybS-WE"
      }
    },
    {
      "cell_type": "markdown",
      "source": [
        "1. SORU CEVABIM"
      ],
      "metadata": {
        "id": "IpEGDL4qgnmh"
      }
    },
    {
      "cell_type": "code",
      "execution_count": null,
      "metadata": {
        "colab": {
          "base_uri": "https://localhost:8080/"
        },
        "id": "-6Bc6WOBScyl",
        "outputId": "933122e8-e827-4efa-e972-1c0602636016"
      },
      "outputs": [
        {
          "output_type": "stream",
          "name": "stdout",
          "text": [
            "Dörtgenin Uzun Kenar Değerini Giriniz: 5\n",
            "Dörtgenin Kısa Kenar Değerini Giriniz: 4\n",
            "Dörtgenin Alanı: 20 m2 dir.\n",
            "Taban uzunluk değerini giriniz: 3\n",
            "Yükseklik değerini giriniz: 2\n",
            "Üçgenin Alanı: 3.0 m2 dir\n",
            "Dairenin yarıçap değerini giriniz: 6\n",
            "Dairenin Alanı: 108 m2 dir\n"
          ]
        }
      ],
      "source": [
        "\n",
        "#----- DÖRTGEN ALANI HESAPLAMA -----#\n",
        "\n",
        "uzunKenar = input(\"Dörtgenin Uzun Kenar Değerini Giriniz: \")\n",
        "kısaKenar = input(\"Dörtgenin Kısa Kenar Değerini Giriniz: \")\n",
        "\n",
        "print(f\"Dörtgenin Alanı: {int(uzunKenar)*int(kısaKenar)} m2 dir.\")\n",
        "\n",
        "\n",
        "#----- ÜÇGEN ALANI HESAPLAMA -----#\n",
        "\n",
        "tabanUzunlugu = input(\"Taban uzunluk değerini giriniz: \")\n",
        "yükseklik = input(\"Yükseklik değerini giriniz: \")\n",
        "\n",
        "print(f\"Üçgenin Alanı: {int(tabanUzunlugu)*int(yükseklik) / 2} m2 dir\")\n",
        "\n",
        "#----- DAİRE ALANI HESAPLAMA -----#\n",
        "\n",
        "daire_yaricapi = input(\"Dairenin yarıçap değerini giriniz: \")\n",
        "pi_degeri = 3\n",
        "\n",
        "print(f\"Dairenin Alanı: {int(daire_yaricapi) ** (2) * int(pi_degeri)} m2 dir\")"
      ]
    },
    {
      "cell_type": "markdown",
      "source": [
        "2. SORU CEVABIM"
      ],
      "metadata": {
        "id": "d35Ysr2usdzI"
      }
    },
    {
      "cell_type": "code",
      "source": [
        "#----- SANİYE HESAPLAMA -----#\n",
        "\n",
        "gunDegeri = input(\"Gün Değerini Giriniz: \")\n",
        "saatDegeri = input(\"Saat Değerini Giriniz: \")\n",
        "dakikaDegeri = input(\"Dakika Değerini Giriniz: \")\n",
        "\n",
        "saniyeDegeri = int(gunDegeri) * 86400 + int(saatDegeri) * 3600 + int(dakikaDegeri) * 60\n",
        "\n",
        "print(f\"{gunDegeri} gün, {saatDegeri} saat, {dakikaDegeri} dakika = {saniyeDegeri} saniyedir.\")"
      ],
      "metadata": {
        "colab": {
          "base_uri": "https://localhost:8080/"
        },
        "id": "R0uotHo9iyNr",
        "outputId": "5f8dc992-c60b-444c-cd51-7042d267c42c"
      },
      "execution_count": null,
      "outputs": [
        {
          "output_type": "stream",
          "name": "stdout",
          "text": [
            "Gün Değerini Giriniz: 45\n",
            "Saat Değerini Giriniz: 24\n",
            "Dakika Değerini Giriniz: 3\n",
            "45 gün, 24 saat, 3 dakika = 3974580 saniyedir.\n"
          ]
        }
      ]
    },
    {
      "cell_type": "markdown",
      "source": [
        "3. SORU CEVABIM."
      ],
      "metadata": {
        "id": "hIELPezux8YJ"
      }
    },
    {
      "cell_type": "code",
      "source": [
        "#----- VÜCUT KİTLE İNDEKSİ HESAPLAMA -----#\n",
        "\n",
        "agirlik_degeri = input(\"Kilonuzu yazınız: \")\n",
        "boy_degeri = input(\"Boy ölçünüzü yazınız: \")\n",
        "\n",
        "print(f\"VK_indeksiniz: {int(agirlik_degeri) / float(boy_degeri) ** (2)} dir.\")\n",
        "\n",
        "VK_indeksi = int(agirlik_degeri) / float(boy_degeri) ** (2)\n",
        "\n",
        "if VK_indeksi < 18.5:\n",
        "    print(\"Allah karakter zayıflığı vermesin maşallah.\")\n",
        "\n",
        "elif VK_indeksi >= 18.5 and VK_indeksi <= 24.9:\n",
        "  print(\"İyisin iyi...\")\n",
        "\n",
        "elif VK_indeksi >= 25 and VK_indeksi <= 29.9:\n",
        "  print(\"Biraz fazlan var gibi, tebrikler spor yapmak için güzel bir sebebin var :)\")\n",
        "elif VK_indeksi >= 30:\n",
        "  print(\"Bir diyetisyenle konuşmanı tavsiye ederim.\")"
      ],
      "metadata": {
        "colab": {
          "base_uri": "https://localhost:8080/"
        },
        "id": "eCCS3S5GsSG9",
        "outputId": "bd9b4425-8268-4df0-f0f7-75d2d2e006e9"
      },
      "execution_count": null,
      "outputs": [
        {
          "output_type": "stream",
          "name": "stdout",
          "text": [
            "Kilonuzu yazınız: 84\n",
            "Boy ölçünüzü yazınız: 183\n",
            "VK_indeksiniz: 0.0025082863029651527 dir.\n",
            "Allah karakter zayıflığı vermesin maşallah.\n"
          ]
        }
      ]
    },
    {
      "cell_type": "markdown",
      "source": [
        "4. SORU CEVABIM"
      ],
      "metadata": {
        "id": "yDB1kT6BRg_0"
      }
    },
    {
      "cell_type": "code",
      "source": [
        "#----- YEMEK MENÜ SEÇİMİ VE FİYATI -----#\n",
        "\n",
        "menu = [\"1. Pizza\", \"2. Burger\",\"3. Salata\"]\n",
        "fiyatlar = [100, 120, 70]\n",
        "print(menu[0])\n",
        "print(menu[1])\n",
        "print(menu[2])\n",
        "\n",
        "yemekSecimi = int(input(\"Lütfen listeden istediğiniz menünün numarasını giriniz: \"))\n",
        "\n",
        "if yemekSecimi == 1:\n",
        "  fiyat = fiyatlar[0]\n",
        "elif yemekSecimi == 2:\n",
        "  fiyat = fiyatlar[1]\n",
        "elif yemekSecimi == 3:\n",
        "  fiyat = fiyatlar[2]\n",
        "else:\n",
        "  print(\"Lütfen menüde belirtilen seçeneklerden birisini yazınız\")\n",
        "\n",
        "vergi = fiyat * 0.15\n",
        "bahsis = fiyat * 0.10\n",
        "Toplam = int(fiyat + vergi + bahsis)\n",
        "\n",
        "print(f\"Ödeyeceğiniz toplam menü bedeli {Toplam} TL dir.\")"
      ],
      "metadata": {
        "id": "GL3abVcZRgtr",
        "colab": {
          "base_uri": "https://localhost:8080/"
        },
        "outputId": "eb985131-7482-4309-fbda-ca4d94e0bf4e"
      },
      "execution_count": null,
      "outputs": [
        {
          "output_type": "stream",
          "name": "stdout",
          "text": [
            "1. Pizza\n",
            "2. Burger\n",
            "3. Salata\n",
            "Lütfen listeden istediğiniz menünün numarasını giriniz: 3\n",
            "Ödeyeceğiniz toplam menü bedeli 87 TL dir.\n"
          ]
        }
      ]
    },
    {
      "cell_type": "markdown",
      "source": [
        "5. SORU CEVABIM"
      ],
      "metadata": {
        "id": "uUS5DbDz-hHB"
      }
    },
    {
      "cell_type": "code",
      "source": [
        "#----- FEET - İNÇ - YARDA - MİL HESAPLAMA -----#\n",
        "\n",
        "\n",
        "inch_degeri = 12         # 1 feet = 12 inch\n",
        "yard_degeri = 1 / 3      # 1 feet = 0.3333 yard\n",
        "mile_degeri = 1 / 5280   # 1 feet = 0.000189394 mile\n",
        "\n",
        "print(f\"1 feet: {inch_degeri} inç, {yard_degeri:.3f} yarda, {mile_degeri:.6f} mil dir.\")"
      ],
      "metadata": {
        "id": "A4JkdH1Ovs36",
        "colab": {
          "base_uri": "https://localhost:8080/"
        },
        "outputId": "9fcb1c5f-7fb1-4a90-d8b7-aa507a8a9609"
      },
      "execution_count": null,
      "outputs": [
        {
          "output_type": "stream",
          "name": "stdout",
          "text": [
            "1 feet: 12 inç, 0.333 yard, 0.000189 mile dir.\n"
          ]
        }
      ]
    },
    {
      "cell_type": "markdown",
      "source": [],
      "metadata": {
        "id": "9qsTAGH8-eQR"
      }
    },
    {
      "cell_type": "markdown",
      "source": [
        "6. SORU CEVABIM"
      ],
      "metadata": {
        "id": "QwUXP3_IFOux"
      }
    },
    {
      "cell_type": "code",
      "source": [
        "#----- TR HARFLERİNİ KONTROL ETME -----#\n",
        "\n",
        "kull_kelimesi = input(\"Lütfen bir kelime giriniz: \")\n",
        "\n",
        "if \"tr\" in kull_kelimesi:\n",
        "  print(\"Kelimeniz tr harflerini içeriyor..\")\n",
        "elif \"Tr\" in kull_kelimesi:\n",
        "  print(\"Kelimeniz tr harflerini içeriyor..\")\n",
        "else:\n",
        "  print(\"Malesef kelimeniz tr harflerini içermiyor..\")\n"
      ],
      "metadata": {
        "id": "Q9-8ycLXFOFc",
        "colab": {
          "base_uri": "https://localhost:8080/"
        },
        "outputId": "bc5489a2-b830-4b93-db61-0b579cea5fd1"
      },
      "execution_count": null,
      "outputs": [
        {
          "output_type": "stream",
          "name": "stdout",
          "text": [
            "Lütfen bir kelime giriniz: trakya\n",
            "Kelimeniz tr harflerini içeriyor..\n"
          ]
        }
      ]
    },
    {
      "cell_type": "markdown",
      "source": [
        "7. SORU CEVABIM"
      ],
      "metadata": {
        "id": "hrM3n-G3Ra06"
      }
    },
    {
      "cell_type": "code",
      "source": [
        "#----- KELİME EŞLEŞTİRME -----#\n",
        "\n",
        "ilk_kelime = input(\"Lütfen bir kelime giriniz: \")\n",
        "ikinci_kelime = input(\"Lütfen bir kelime daha giriniz: \")\n",
        "\n",
        "if ilk_kelime == ikinci_kelime:\n",
        "  print(\"Tebrikler birinci ve ikinci kelimeleriniz eşleşiyor\")\n",
        "else:\n",
        "  print(\"Üzgünüm.. Kelimeleriniz eşleşmiyor..\")"
      ],
      "metadata": {
        "colab": {
          "base_uri": "https://localhost:8080/"
        },
        "id": "GFIY7fm9EVq7",
        "outputId": "6b7fbda8-5058-4cf5-bc6e-609915514db7"
      },
      "execution_count": null,
      "outputs": [
        {
          "output_type": "stream",
          "name": "stdout",
          "text": [
            "Lütfen bir kelime giriniz: uğur\n",
            "Lütfen bir kelime daha giriniz: Lina\n",
            "Üzgünüm.. Kelimeleriniz eşleşmiyor..\n"
          ]
        }
      ]
    },
    {
      "cell_type": "markdown",
      "source": [
        "8. SORU CEVABIM"
      ],
      "metadata": {
        "id": "42zf7c1OGlZc"
      }
    },
    {
      "cell_type": "code",
      "source": [
        "#----- 100 DEĞERİNE GÖRE SONUÇ YAZDIRMA -----#\n",
        "\n",
        "sayi = int(input(\"Lütfen bir sayı giriniz (çıkmak için q' ya basınız): \"))\n",
        "\n",
        "if sayi < 100:\n",
        "  print(\"Girdiğiniz sayı değeri 100' den küçüktür.\")\n",
        "elif sayi == 100:\n",
        "  print(\"Girdiğiniz sayı değeri 100' e eşittir.\")\n",
        "elif sayi > 100:\n",
        "  print(\"Girdiğiniz sayı değeri 100' den büyüktür.\")"
      ],
      "metadata": {
        "id": "TJf5XePqFl7j",
        "colab": {
          "base_uri": "https://localhost:8080/"
        },
        "outputId": "0e155aae-e0ff-47c1-b2d3-99e7ee5ee5a1"
      },
      "execution_count": null,
      "outputs": [
        {
          "output_type": "stream",
          "name": "stdout",
          "text": [
            "Lütfen bir sayı giriniz (çıkmak için q' ya basınız): 100\n",
            "Girdiğiniz sayı değeri 100' e eşittir.\n"
          ]
        }
      ]
    },
    {
      "cell_type": "markdown",
      "source": [
        "9. SORU CEVABIM"
      ],
      "metadata": {
        "id": "coSpcBx5RK2q"
      }
    },
    {
      "cell_type": "code",
      "source": [
        "#----- YAŞA GÖRE DÖNEM HESAPLAMA -----#\n",
        "\n",
        "kull_yasi = int(input(\"Lütfen yaşınızı giriniz: \"))\n",
        "\n",
        "if kull_yasi < 12:\n",
        "  print(\"Henüz çocukluk çağındasınız\")\n",
        "elif  13 <= kull_yasi <= 19:\n",
        "  print(\"Ergenlik çağındasınız\")\n",
        "elif 19 < kull_yasi <= 30:\n",
        "  print(\"Genç yetişkin aralığındasınız\")\n",
        "elif 30 < kull_yasi <= 64:\n",
        "  print(\"Yetişkin aralığındasınız\")\n",
        "else:\n",
        "  print(\"Olgunluk çağındasınız\")\n"
      ],
      "metadata": {
        "colab": {
          "base_uri": "https://localhost:8080/"
        },
        "id": "Z3xTJtr7QSfj",
        "outputId": "a7cf004b-2789-46b3-b1a8-d8a8dcdf6b19"
      },
      "execution_count": null,
      "outputs": [
        {
          "output_type": "stream",
          "name": "stdout",
          "text": [
            "Lütfen yaşınızı giriniz: 38\n",
            "Yetişkin aralığındasınız\n"
          ]
        }
      ]
    },
    {
      "cell_type": "markdown",
      "source": [
        "10. SORU CEVABIM"
      ],
      "metadata": {
        "id": "BaQKg-c0tCH3"
      }
    },
    {
      "cell_type": "code",
      "source": [
        "#----- KELİME SON HECE KONTROLÜ -----#\n",
        "\n",
        "kelime = input(\"Bir kelime yazınız: \")\n",
        "\n",
        "if kelime.endswith(\"miş\"):\n",
        "  print(\"Kelimenizin sonu -miş hecesi ile bitmektedir.\")\n",
        "else:\n",
        "  print(\"Kelimenizin sonu -miş dışında herhangi bir hece ile bitmektedir.\")"
      ],
      "metadata": {
        "colab": {
          "base_uri": "https://localhost:8080/"
        },
        "id": "PUiiCEYJqcyn",
        "outputId": "81be37b9-8e9a-4be0-87a6-b5bd4d02dbec"
      },
      "execution_count": null,
      "outputs": [
        {
          "output_type": "stream",
          "name": "stdout",
          "text": [
            "Bir kelime yazınız: kuruyemiş\n",
            "Kelimenizin sonu -miş hecesi ile bitmektedir.\n"
          ]
        }
      ]
    },
    {
      "cell_type": "markdown",
      "source": [
        "11. SORU CEVABIM"
      ],
      "metadata": {
        "id": "7rSa_vhQc2mr"
      }
    },
    {
      "cell_type": "code",
      "source": [
        "#----- BASİT HESAP MAKİNESİ PROGRAMI -----#\n",
        "\n",
        "islem = [\"Toplama\", \"Çıkarma\", \"Çarpma\", \"Bölme\"]\n",
        "\n",
        "print(f\"1. {islem[0]}\")\n",
        "print(f\"2. {islem[1]}\")\n",
        "print(f\"3. {islem[2]}\")\n",
        "print(f\"4. {islem[3]}\")\n",
        "\n",
        "sayi_1 = int(input(\"Lütfen ilk sayı değerini giriniz: \"))\n",
        "sayi_2 = int(input(\"Lütfen ikinci sayı değerini giriniz: \"))\n",
        "istenen_islem = input(f\"Lütfen yapmak istediğiniz işlemi seçiniz:\")\n",
        "\n",
        "if istenen_islem == \"Toplama\":\n",
        "  sonuc = (sayi_1) + (sayi_2)\n",
        "  print(sonuc)\n",
        "elif istenen_islem == \"Çıkarma\":\n",
        "  sonuc = (sayi_1) - (sayi_2)\n",
        "  print(sonuc)\n",
        "elif istenen_islem == \"Çarpma\":\n",
        "  sonuc = (sayi_1) * (sayi_2)\n",
        "  print(sonuc)\n",
        "elif istenen_islem == \"Bölme\":\n",
        "  if sayi_2 == 0:\n",
        "    print(\"Bir sayı 0 ile bölünemez. Lütfen başka bir sayı deneyin\")\n",
        "  else:\n",
        "    sonuc = (sayi_1) / (sayi_2)\n",
        "    print(sonuc)\n",
        "else:\n",
        "  print(\"Lütfen işlemi doğru yazdığınızdan emin olunuz.\")"
      ],
      "metadata": {
        "id": "kQKInjt4s6sE",
        "colab": {
          "base_uri": "https://localhost:8080/"
        },
        "outputId": "36ecfb08-c7c4-4683-840d-4db12373047b"
      },
      "execution_count": null,
      "outputs": [
        {
          "output_type": "stream",
          "name": "stdout",
          "text": [
            "1. Toplama\n",
            "2. Çıkarma\n",
            "3. Çarpma\n",
            "4. Bölme\n",
            "Lütfen ilk sayı değerini giriniz: 4\n",
            "Lütfen ikinci sayı değerini giriniz: 5\n",
            "Lütfen yapmak istediğiniz işlemi seçiniz:Çarpma\n",
            "20\n"
          ]
        }
      ]
    },
    {
      "cell_type": "markdown",
      "source": [
        "12. SORU CEVABIM"
      ],
      "metadata": {
        "id": "sUTkCnCoqBK3"
      }
    },
    {
      "cell_type": "code",
      "source": [
        "#----- ASLANDAN KAÇMA OYUNU -----#\n",
        "\n",
        "soru_1 = input(\"Bir aslanla karşılaşdınız ne yapardınız?: (1: Kaçardım, 2: Ağaca tırmanırdım)\")\n",
        "\n",
        "if soru_1 == \"1\":\n",
        "  soru_2 = input(\"Ne yöne doğru kaçardınız?: 1. Nehire doğru, 2. Otoyola doğru\")\n",
        "\n",
        "  if soru_2 == \"1\":\n",
        "    print(\"Üzgünüm aslana yakalandınız. Kurtulabilirseniz en yakın sağlık kuruluşuna sürünün..\")\n",
        "  elif soru_2 == \"2\":\n",
        "    print(\"Tebrikler aslandan kurtulmayı başardınız..\")\n",
        "\n",
        "elif soru_1 == \"2\":\n",
        "  soru_3 = input(\"Hangi ağaca tırmanırdınız?: 1. Ağaç olsun yakın olsun gerisi önemli değil, 2. Şu uzaktaki kiraz ağacımı O? o uzunmuş ona koşuyorum!\")\n",
        "  if soru_3 == \"1\":\n",
        "    print(\"Ağaca güvenme çürür demişler, ama artık senin için bir önemi yok.....\")\n",
        "  elif soru_3 == \"2\":\n",
        "    print(\"Aferin aslandan kurtulmayı başardın...\")\n"
      ],
      "metadata": {
        "id": "7DazNqCPe9cj",
        "colab": {
          "base_uri": "https://localhost:8080/"
        },
        "outputId": "5474751c-ee37-4be6-993a-f5d8ca5d2120"
      },
      "execution_count": null,
      "outputs": [
        {
          "output_type": "stream",
          "name": "stdout",
          "text": [
            "Bir aslanla karşılaşdınız ne yapardınız?: (1: Kaçardım, 2: Ağaca tırmanırdım)1\n",
            "Ne yöne doğru kaçardınız?: 1. Nehire doğru, 2. Otoyola doğru1\n",
            "Üzgünüm aslana yakalandınız. Kurtulabilirseniz en yakın sağlık kuruluşuna sürünün..\n"
          ]
        }
      ]
    }
  ]
}